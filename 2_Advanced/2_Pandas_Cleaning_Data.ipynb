{
 "cells": [
  {
   "cell_type": "code",
   "execution_count": 3,
   "metadata": {},
   "outputs": [],
   "source": [
    "import pandas as pd\n",
    "import matplotlib.pyplot as plt\n",
    "from datasets import load_dataset\n",
    "dataset=load_dataset('lukebarousse/data_jobs')\n",
    "df=dataset['train'].to_pandas()\n",
    "df['job_posted_date']=pd.to_datetime(df['job_posted_date'])\n"
   ]
  },
  {
   "cell_type": "code",
   "execution_count": 5,
   "metadata": {},
   "outputs": [
    {
     "data": {
      "text/plain": [
       "115000.0"
      ]
     },
     "execution_count": 5,
     "metadata": {},
     "output_type": "execute_result"
    }
   ],
   "source": [
    "#We want to fill up the nan values with the median on the columns keeping the original on intact\n",
    "median_year_avg=df['salary_year_avg'].median()\n",
    "median_year_avg\n"
   ]
  },
  {
   "cell_type": "code",
   "execution_count": 7,
   "metadata": {},
   "outputs": [],
   "source": [
    "median_salary_hour=df['salary_hour_avg'].median()"
   ]
  },
  {
   "cell_type": "code",
   "execution_count": 10,
   "metadata": {},
   "outputs": [],
   "source": [
    "#when we modify my dataset..i need to keep the original one intact\n",
    "df_filled=df\n",
    "df_filled['salary_year_avg']=df_filled['salary_year_avg'].fillna(median_year_avg)\n",
    "df_filled['salary_hour_avg']=df_filled['salary_hour_avg'].fillna(median_salary_hour)"
   ]
  },
  {
   "cell_type": "markdown",
   "metadata": {},
   "source": []
  },
  {
   "cell_type": "code",
   "execution_count": 13,
   "metadata": {},
   "outputs": [
    {
     "name": "stdout",
     "output_type": "stream",
     "text": [
      "Length of filled dataframe:  785741\n",
      "Length of unique dataframe:  785640\n",
      "No of lines dropped:  101\n"
     ]
    }
   ],
   "source": [
    "#DROP DUPLICATES\n",
    "df_unique=df_filled\n",
    "df_unique=df_unique.drop_duplicates()\n",
    "\n",
    "print('Length of filled dataframe: ',len(df_filled))\n",
    "print('Length of unique dataframe: ',len(df_unique))\n",
    "print('No of lines dropped: ',len(df_filled)-len(df_unique))"
   ]
  },
  {
   "cell_type": "code",
   "execution_count": 14,
   "metadata": {},
   "outputs": [
    {
     "name": "stdout",
     "output_type": "stream",
     "text": [
      "Length of filled dataframe:  785741\n",
      "Length of unique dataframe:  508042\n",
      "No of lines dropped:  277699\n"
     ]
    }
   ],
   "source": [
    "df_unique=df_unique.drop_duplicates(subset=['job_title', 'company_name'])\n",
    "print('Length of filled dataframe: ',len(df_filled))\n",
    "print('Length of unique dataframe: ',len(df_unique))\n",
    "print('No of lines dropped: ',len(df_filled)-len(df_unique))"
   ]
  }
 ],
 "metadata": {
  "kernelspec": {
   "display_name": "python_course",
   "language": "python",
   "name": "python3"
  },
  "language_info": {
   "codemirror_mode": {
    "name": "ipython",
    "version": 3
   },
   "file_extension": ".py",
   "mimetype": "text/x-python",
   "name": "python",
   "nbconvert_exporter": "python",
   "pygments_lexer": "ipython3",
   "version": "3.12.8"
  }
 },
 "nbformat": 4,
 "nbformat_minor": 2
}
