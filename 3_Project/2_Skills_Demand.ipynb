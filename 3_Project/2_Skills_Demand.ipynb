{
 "cells": [
  {
   "cell_type": "code",
   "execution_count": 1,
   "metadata": {},
   "outputs": [],
   "source": [
    "import pandas as pd\n",
    "import matplotlib.pyplot as plt\n",
    "\n",
    "#IMPORTING DATASET\n",
    "from datasets import load_dataset\n",
    "dataset=load_dataset('lukebarousse/data_jobs') \n",
    "df=dataset['train'].to_pandas()\n",
    "\n",
    "#CLEANING THE DATA\n",
    "df['job_posted_date']=pd.to_datetime(df['job_posted_date'])\n",
    "import ast\n",
    "#convert the column of job_skill in the dataframe to a list(initially it was in the datatype string)\n",
    "#it can be carried out by ast.literaleval\n",
    "def clean_string(skill_list):\n",
    "    if pd.notna(skill_list):\n",
    "        return ast.literal_eval(skill_list)\n",
    "    else:\n",
    "        return skill_list\n",
    "df['job_skills']=df['job_skills'].apply(clean_string)"
   ]
  },
  {
   "cell_type": "code",
   "execution_count": 2,
   "metadata": {},
   "outputs": [],
   "source": [
    "df_US=df[df['job_country']=='United States']"
   ]
  },
  {
   "cell_type": "code",
   "execution_count": 3,
   "metadata": {},
   "outputs": [],
   "source": [
    "df_skills=df_US.explode('job_skills')"
   ]
  },
  {
   "cell_type": "code",
   "execution_count": 8,
   "metadata": {},
   "outputs": [
    {
     "data": {
      "text/plain": [
       "job_skills  job_title_short          \n",
       "airflow     Business Analyst               38\n",
       "            Cloud Engineer                 27\n",
       "            Data Analyst                  387\n",
       "            Data Engineer                4716\n",
       "            Data Scientist               1166\n",
       "                                         ... \n",
       "zoom        Machine Learning Engineer       5\n",
       "            Senior Data Analyst            50\n",
       "            Senior Data Engineer           30\n",
       "            Senior Data Scientist          25\n",
       "            Software Engineer              16\n",
       "Length: 1870, dtype: int64"
      ]
     },
     "execution_count": 8,
     "metadata": {},
     "output_type": "execute_result"
    }
   ],
   "source": [
    "df_skill_count=df_skills.groupby(['job_skills', 'job_title_short']).size()\n",
    "df_skill_count"
   ]
  },
  {
   "cell_type": "code",
   "execution_count": null,
   "metadata": {},
   "outputs": [],
   "source": []
  }
 ],
 "metadata": {
  "kernelspec": {
   "display_name": "python_course",
   "language": "python",
   "name": "python3"
  },
  "language_info": {
   "codemirror_mode": {
    "name": "ipython",
    "version": 3
   },
   "file_extension": ".py",
   "mimetype": "text/x-python",
   "name": "python",
   "nbconvert_exporter": "python",
   "pygments_lexer": "ipython3",
   "version": "3.12.8"
  }
 },
 "nbformat": 4,
 "nbformat_minor": 2
}
